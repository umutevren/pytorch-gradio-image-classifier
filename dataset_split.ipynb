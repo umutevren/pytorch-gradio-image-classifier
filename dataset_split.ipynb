{
 "cells": [
  {
   "cell_type": "code",
   "execution_count": 1,
   "metadata": {},
   "outputs": [],
   "source": [
    "import os\n",
    "import random\n",
    "import shutil"
   ]
  },
  {
   "cell_type": "code",
   "execution_count": 5,
   "metadata": {},
   "outputs": [],
   "source": [
    "dataset_path = r\"processed_images\"\n",
    "train_path = \"animal_dataset/train\"\n",
    "test_path = \"animal_dataset/test\"\n",
    "split_ratio = 0.8"
   ]
  },
  {
   "cell_type": "code",
   "execution_count": 6,
   "metadata": {},
   "outputs": [],
   "source": [
    "os.makedirs(train_path, exist_ok=True)\n",
    "os.makedirs(test_path, exist_ok=True)"
   ]
  },
  {
   "cell_type": "code",
   "execution_count": 9,
   "metadata": {},
   "outputs": [
    {
     "name": "stdout",
     "output_type": "stream",
     "text": [
      "Dataset splitting completed.\n"
     ]
    }
   ],
   "source": [
    "for class_folder in os.listdir(dataset_path):\n",
    "    class_path = os.path.join(dataset_path, class_folder)\n",
    "    if not os.path.isdir(class_path):\n",
    "        continue\n",
    "\n",
    "    # List all files in the class folder\n",
    "    files = [\n",
    "        f for f in os.listdir(class_path) if os.path.isfile(os.path.join(class_path, f))\n",
    "    ]\n",
    "    random.shuffle(files)\n",
    "\n",
    "    # Split files into train and test\n",
    "    split_index = int(len(files) * split_ratio)\n",
    "    train_files = files[:split_index]\n",
    "    test_files = files[split_index:]\n",
    "\n",
    "    # Create corresponding class folders in train and test directories\n",
    "    os.makedirs(os.path.join(train_path, class_folder), exist_ok=True)\n",
    "    os.makedirs(os.path.join(test_path, class_folder), exist_ok=True)\n",
    "\n",
    "    # Move files to train and test directories\n",
    "    for f in train_files:\n",
    "        shutil.copy2(\n",
    "            os.path.join(class_path, f), os.path.join(train_path, class_folder)\n",
    "        )\n",
    "\n",
    "    for f in test_files:\n",
    "        shutil.copy2(os.path.join(class_path, f), os.path.join(test_path, class_folder))\n",
    "\n",
    "print(\"Dataset splitting completed.\")"
   ]
  }
 ],
 "metadata": {
  "kernelspec": {
   "display_name": "venv",
   "language": "python",
   "name": "python3"
  },
  "language_info": {
   "codemirror_mode": {
    "name": "ipython",
    "version": 3
   },
   "file_extension": ".py",
   "mimetype": "text/x-python",
   "name": "python",
   "nbconvert_exporter": "python",
   "pygments_lexer": "ipython3",
   "version": "3.10.13"
  }
 },
 "nbformat": 4,
 "nbformat_minor": 2
}
